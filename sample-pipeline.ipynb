{
 "cells": [
  {
   "cell_type": "raw",
   "metadata": {},
   "source": [
    "import kfp.dsl as dsl\n",
    "from kfp.v2 import compiler\n",
    "from kfp.v2.google.client import AIPlatformClient\n",
    "from kfp.v2.dsl import component"
   ]
  },
  {
   "cell_type": "raw",
   "metadata": {},
   "source": [
    "# scikit-learn 線形回帰モデルのスコアを Cloud Storage へ出力する\n",
    "# scikit-learn https://scikit-learn.org/stable/\n",
    "# @component デコレータで関数をパッケージ化します\n",
    "@component\n",
    "def out_eval(bucket:str):\n",
    "    import subprocess\n",
    "    subprocess.run([\"pip\", \"install\", \"--upgrade\", \"pandas\"])\n",
    "    subprocess.run([\"pip\", \"install\", \"--upgrade\", \"sklearn\"])\n",
    "    subprocess.run([\"pip\", \"install\", \"--upgrade\", \"fsspec\"])\n",
    "    subprocess.run([\"pip\", \"install\", \"--upgrade\", \"gcsfs\"])\n",
    "    import pandas as pd\n",
    "    from sklearn.datasets import load_boston\n",
    "    from sklearn.model_selection import train_test_split\n",
    "    from sklearn import linear_model\n",
    "\n",
    "    boston = load_boston()\n",
    "    x = boston.data # 説明変数\n",
    "    y = boston.target # 目的変数\n",
    "    x_train, x_test, y_train, y_test = train_test_split(x, y, test_size=0.2)\n",
    "\n",
    "    model = linear_model.LinearRegression()\n",
    "    model.fit(x_train, y_train)\n",
    "    \n",
    "    df = pd.DataFrame({'train_score': [model.score(x_train, y_train)],\n",
    "                      'test_score': [model.score(x_test, y_test)]})\n",
    "    df.to_csv('gs://{}/test.csv'.format(bucket), index=False)"
   ]
  },
  {
   "cell_type": "raw",
   "metadata": {},
   "source": [
    "# Cloud Storage に出力された CSV を BigQuery に出力する\n",
    "# https://cloud.google.com/bigquery/docs/loading-data-cloud-storage-csv?hl=ja#python\n",
    "@component\n",
    "def out_bq(project_id:str, bucket:str):\n",
    "    import subprocess\n",
    "    subprocess.run([\"pip\", \"install\", \"--upgrade\", \"google-cloud-bigquery\"])\n",
    "    from google.cloud import bigquery\n",
    "\n",
    "    client = bigquery.Client(project=project_id)\n",
    "    table_id='{}.vertexai.boston_eval'.format(project_id)\n",
    "    job_config = bigquery.LoadJobConfig(\n",
    "        schema=[\n",
    "            bigquery.SchemaField(\"train_score\", \"FLOAT\"),\n",
    "            bigquery.SchemaField(\"test_score\", \"FLOAT\"),\n",
    "        ],\n",
    "        skip_leading_rows=1,\n",
    "        write_disposition=bigquery.WriteDisposition.WRITE_TRUNCATE,\n",
    "        source_format=bigquery.SourceFormat.CSV,\n",
    "    )\n",
    "    uri = \"gs://{}/test.csv\".format(bucket)\n",
    "\n",
    "    load_job = client.load_table_from_uri(\n",
    "        uri, table_id, job_config=job_config\n",
    "    )\n",
    "\n",
    "    load_job.result()"
   ]
  },
  {
   "cell_type": "raw",
   "metadata": {},
   "source": [
    "# 参考 https://cloud.google.com/vertex-ai/docs/pipelines/run-pipeline\n",
    "PROJECT_ID = 'xxx' # プロジェクトID\n",
    "GCS_BUCKET = 'yyy' # バケット名\n",
    "\n",
    "root_path = 'gs://{}/pipeline/'.format(GCS_BUCKET) # パイプラインサービスアカウントがアクセスできる Cloud Storage URI\n",
    "\n",
    "@dsl.pipeline(\n",
    "    name='sample-pipeline',\n",
    "    description='VertexAIサンプルパイプライン',\n",
    "    pipeline_root=root_path\n",
    ")\n",
    "\n",
    "# パイプライン構築\n",
    "def root_pipeline():\n",
    "    out_bq(PROJECT_ID, GCS_BUCKET).after(out_eval(GCS_BUCKET))\n",
    "\n",
    "# パイプラインのコンパイル\n",
    "compiler.Compiler().compile(pipeline_func=root_pipeline, package_path='sample_pipeline.json')\n",
    "\n",
    "api_client = AIPlatformClient(project_id=PROJECT_ID,\n",
    "                           region='us-central1')\n",
    "\n",
    "api_client.create_schedule_from_job_spec(\n",
    "    job_spec_path='sample_pipeline.json',\n",
    "    schedule='0 10 * * *', # パイプラインを実行するスケジュール\n",
    "    time_zone='Asia/Tokyo',\n",
    "    pipeline_root=root_path\n",
    ")"
   ]
  }
 ],
 "metadata": {
  "language_info": {
   "name": "plaintext"
  },
  "orig_nbformat": 2
 },
 "nbformat": 4,
 "nbformat_minor": 2
}